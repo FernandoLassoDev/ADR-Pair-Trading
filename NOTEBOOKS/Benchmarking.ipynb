{
 "cells": [
  {
   "cell_type": "code",
   "execution_count": 1,
   "metadata": {},
   "outputs": [
    {
     "name": "stderr",
     "output_type": "stream",
     "text": [
      "/home/fernandomlassop/anaconda3/lib/python3.7/site-packages/pandas_datareader/compat/__init__.py:7: FutureWarning: pandas.util.testing is deprecated. Use the functions in the public API at pandas.testing instead.\n",
      "  from pandas.util.testing import assert_frame_equal\n"
     ]
    }
   ],
   "source": [
    "import os\n",
    "os.chdir(\"..\")\n",
    "# Data structures\n",
    "import pandas as pd\n",
    "import numpy as np\n",
    "pd.options.mode.chained_assignment = None \n",
    "import pickle\n",
    "\n",
    "# Necessary modules\n",
    "from STRATEGY.BaseTradeEngine import BaseTradeEngine\n",
    "from STRATEGY.Benchmark import Benchmark\n",
    "from STRATEGY.Kalman import Kalman\n",
    "from UTIL import tradeUtil as tu\n",
    "import seaborn as sns\n",
    "\n",
    "# Debug Tools\n",
    "import sys\n",
    "import importlib\n",
    "import warnings\n",
    "warnings.filterwarnings(\"ignore\")\n",
    "\n",
    "# Statistical tools\n",
    "import statsmodels.tsa.stattools as ts"
   ]
  },
  {
   "cell_type": "code",
   "execution_count": 2,
   "metadata": {},
   "outputs": [],
   "source": [
    "# Read config\n",
    "verbose = False\n",
    "\n",
    "files = pd.DataFrame({'ODR': ['rya','ulvr','bpln','hsbcln'],\n",
    "         'ADR': ['ryaay','ul','bp','hsbc']})\n",
    "\n",
    "treatment1 = {'rm_outliers': False, 'rm_wide_spread': False, 'adjust_spread': False}\n",
    "\n",
    "treatment2 = {'rm_outliers': True, 'rm_wide_spread': False, 'adjust_spread': False}\n",
    "\n",
    "treatment3 = {'rm_outliers': True, 'rm_wide_spread': True, 'max_width': 10, 'adjust_spread': False}\n",
    "\n",
    "treatment4 = {'rm_outliers': True, 'rm_wide_spread': True, 'max_width': 20, 'adjust_spread': False}\n",
    "\n",
    "treatment5 = {'rm_outliers': True, 'rm_wide_spread': True, 'max_width': 20, 'adjust_spread': True, 'adjust_width': 10}\n",
    "\n",
    "treatment6 = {'rm_outliers': True, 'rm_wide_spread': True, 'max_width': 20, 'adjust_spread': True, 'adjust_width': 7.5}\n",
    "\n",
    "treatment7 = {'rm_outliers': False, 'rm_wide_spread': True, 'max_width': 20,'adjust_spread': True, 'adjust_width': 7.5}\n",
    "\n",
    "treatments = [treatment1, treatment2, treatment3, treatment4, treatment5, treatment6, treatment7]\n",
    "\n",
    "output = []\n",
    "opt_settings = []"
   ]
  },
  {
   "cell_type": "code",
   "execution_count": null,
   "metadata": {
    "scrolled": false
   },
   "outputs": [
    {
     "name": "stdout",
     "output_type": "stream",
     "text": [
      "-----------------------------------------------------------------------\n",
      "rya vs ryaay pair trading using Benchmark and treatment T0\n",
      "-----------------------------------------------------------------------\n",
      "Observations in source  | ryaay : 110795 , rya : 134001 \n",
      "After merging on date   | ryaay : 27152 , rya : 27152 \n",
      "After applying filters  | ryaay : 27152 , rya : 27152 \n"
     ]
    },
    {
     "name": "stderr",
     "output_type": "stream",
     "text": [
      "100%|██████████| 56/56 [00:56<00:00,  1.01s/it]\n",
      "100%|██████████| 64/64 [04:53<00:00,  4.59s/it]\n",
      "100%|██████████| 56/56 [00:13<00:00,  4.08it/s]\n",
      "100%|██████████| 49/49 [00:47<00:00,  1.04it/s]\n",
      "100%|██████████| 12/12 [00:06<00:00,  1.80it/s]\n"
     ]
    },
    {
     "name": "stdout",
     "output_type": "stream",
     "text": [
      "-----------------------------------------------------------------------\n",
      "ulvr vs ul pair trading using Benchmark and treatment T0\n",
      "-----------------------------------------------------------------------\n",
      "Observations in source  | ul : 157682 , ulvr : 134550 \n",
      "After merging on date   | ul : 31631 , ulvr : 31631 \n",
      "After applying filters  | ul : 31631 , ulvr : 31631 \n"
     ]
    },
    {
     "name": "stderr",
     "output_type": "stream",
     "text": [
      "100%|██████████| 56/56 [01:01<00:00,  1.10s/it]\n",
      " 66%|██████▌   | 42/64 [00:44<00:23,  1.05s/it]"
     ]
    }
   ],
   "source": [
    "default = {'entryZ': 2, 'exitZ': -1, 'lag': 0, 'resample': 5, 'rounding': 3, 'windowZ':120, 'windowOLS':150,\n",
    "          'transaction_cost':0.0063}\n",
    "\n",
    "values  =  {'entryZ': list(np.arange(0, 3.1, 0.5)), 'exitZ': [-5] + list(np.arange(-2.5, 0.6, 0.5)), \n",
    "           'lag': [0,1,2,5], 'resample': [1,5,10,20,60,250,500], 'rounding': [1,2,3], \n",
    "            'windowZ': list(np.arange(10, 71, 15)) + [100,150,300], \n",
    "            'windowOLS': list(np.arange(150, 1000, 150)) + [1500,2500]}\n",
    "\n",
    "order   = np.array([['windowOLS','resample'],['windowOLS','windowZ'],['exitZ','entryZ'],\n",
    "                    ['entryZ','resample'],  ['lag','rounding']])\n",
    "\n",
    "for i, treat in enumerate(treatments):\n",
    "    for index, row in files.iterrows():\n",
    "        train_out, test_out, opt_set = tu.backtest_model(row['ODR'], row['ADR'], Benchmark, default, treat, \n",
    "                                             values, order, version = \"Benchmark\", clean_version = (\"T\" + str(i)),\n",
    "                                                        train = [0,0.75], test = [0.75,1])\n",
    "        output.extend(list((train_out,test_out)))\n",
    "        opt_settings.append(opt_set)\n",
    "    \n"
   ]
  },
  {
   "cell_type": "code",
   "execution_count": null,
   "metadata": {},
   "outputs": [],
   "source": [
    "default = {'lag': 0, 'resample': 5, 'rounding': 3,  'entryMult':2, 'exitMult':-3, 'transaction_cost': 0.0063}\n",
    "\n",
    "values  =  {'lag': [0,1,2,5], 'resample': [1,5,10,20,60,250,500], 'rounding': [1,2,3], \n",
    "            'entryMult': list(np.arange(0.5, 5.1, 0.5)), 'exitMult': [-5] + list(np.arange(0.5, -3.1, -0.5))}\n",
    "\n",
    "\n",
    "order   = np.array([['resample','entryMult'],['exitMult','entryMult'],['lag','rounding']])\n",
    "\n",
    "for i, treat in enumerate(treatments):\n",
    "    for index, row in files.iterrows():\n",
    "        train_out, test_out, opt_set = tu.backtest_model(row['ODR'], row['ADR'], Kalman, default, treat, \n",
    "                                             values, order, version = \"Kalman\", clean_version = \"T\" +str(i),\n",
    "                                                        train = [0,0.75], test = [0.75,1])\n",
    "        output.extend(list((train_out,test_out)))\n",
    "        opt_settings.append(opt_set)"
   ]
  },
  {
   "cell_type": "code",
   "execution_count": null,
   "metadata": {},
   "outputs": [],
   "source": [
    "from IPython.display import display\n",
    "results = pd.concat(output, axis=1)\n",
    "results.columns = pd.MultiIndex.from_tuples(results.columns, names=['Data','Sample','Model','Treatment'])\n",
    "display(results.transpose().sort_index(level = 'Data').style.background_gradient())"
   ]
  },
  {
   "cell_type": "code",
   "execution_count": null,
   "metadata": {},
   "outputs": [],
   "source": [
    "idx = [o.columns[0] for o in output[::2]]\n",
    "settings = pd.DataFrame(opt_settings,index=idx)\n",
    "settings.index = pd.MultiIndex.from_tuples(settings.index, names=['Data','Sample','Model','Treatment'])\n"
   ]
  },
  {
   "cell_type": "code",
   "execution_count": null,
   "metadata": {},
   "outputs": [],
   "source": [
    "results.transpose().to_pickle(\"./OUTPUT/results.pkl\")\n",
    "settings.to_pickle(\"./OUTPUT/opt_settings.pkl\")"
   ]
  },
  {
   "cell_type": "code",
   "execution_count": null,
   "metadata": {},
   "outputs": [],
   "source": [
    "#hi"
   ]
  }
 ],
 "metadata": {
  "kernelspec": {
   "display_name": "Python 3",
   "language": "python",
   "name": "python3"
  },
  "language_info": {
   "codemirror_mode": {
    "name": "ipython",
    "version": 3
   },
   "file_extension": ".py",
   "mimetype": "text/x-python",
   "name": "python",
   "nbconvert_exporter": "python",
   "pygments_lexer": "ipython3",
   "version": "3.7.6"
  }
 },
 "nbformat": 4,
 "nbformat_minor": 4
}
