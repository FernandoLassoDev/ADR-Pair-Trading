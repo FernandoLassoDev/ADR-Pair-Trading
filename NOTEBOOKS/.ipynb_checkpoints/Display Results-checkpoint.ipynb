{
 "cells": [
  {
   "cell_type": "code",
   "execution_count": 2,
   "metadata": {},
   "outputs": [],
   "source": [
    "import os\n",
    "os.chdir(\"..\")\n",
    "import pickle\n",
    "import pandas as pd\n",
    "import numpy as np\n",
    "import math\n",
    "import matplotlib.pyplot as plt  \n",
    "from matplotlib import colors\n",
    "\n",
    "import imgkit\n"
   ]
  },
  {
   "cell_type": "code",
   "execution_count": 73,
   "metadata": {},
   "outputs": [],
   "source": [
    "s = pd.read_pickle(\"OUTPUT/opt_settings.pkl\").loc[:,['transaction_cost', 'lag', 'resample',\n",
    "       'rounding', 'windowZ', 'windowOLS',  'entryZ', 'exitZ','entryMult', 'exitMult']]\n",
    "r = pd.read_pickle(\"OUTPUT/results.pkl\").loc[:,['sharpe_ratio', 'total_return', \n",
    "                        'max_drawdown', 'mean_hold_time', 'n_transactions',\n",
    "       'long_ret', 'short_ret', 'spread_ret', 'trans_ret']]\n",
    "r['total_return']= r.long_ret + r.short_ret + r.spread_ret + r.trans_ret - 4\n",
    "#ts = ['T1','T2','T4']\n",
    "ts = ['T0','T1','T2','T3','T4','T5','T6']\n",
    "s = s.droplevel(\"Sample\")[np.in1d(s.index.get_level_values('Treatment'),ts)]\n",
    "r = r[np.in1d(r.index.get_level_values('Treatment'),ts)]\n",
    "r.reorder_levels(['Data','Model','Sample','Treatment'])\n",
    "r = r.sort_index(level = ['Sample'])\n",
    "s = s.sort_index(level = ['Data','Model'])\n",
    "skal = np.in1d(s.index.get_level_values('Model'),\"Kalman\")\n",
    "rkal = np.in1d(r.index.get_level_values('Model'),\"Kalman\")\n",
    "srya = np.in1d(s.index.get_level_values('Data'),\"rya_ryaay\")\n",
    "rrya = np.in1d(r.index.get_level_values('Data'),\"rya_ryaay\")\n",
    "shsbc= np.in1d(s.index.get_level_values('Data'),\"hsbcln_hsbc\")\n",
    "rhsbc= np.in1d(r.index.get_level_values('Data'),\"hsbcln_hsbc\")\n",
    "r[r[['long_ret','short_ret','spread_ret','trans_ret']] ==0] = 1\n",
    "s2 = s.copy()\n",
    "r2 = r.copy()\n",
    "\n",
    "r.sharpe_ratio = [\"0.00\" if math.isnan(val) else \"{0:.2f}\".format(val)  for val in r.sharpe_ratio]\n",
    "r.total_return = [\"0.00%\" if math.isnan(val) else \"{0:.2f}%\".format(val*100)  for val in r.total_return]\n",
    "r.max_drawdown = [\"0.00%\" if math.isnan(val) else \"{0:.2f}%\".format(val*100)  for val in r.max_drawdown]\n",
    "r.mean_hold_time = r.mean_hold_time.astype(int)\n",
    "r.n_transactions = r.n_transactions.astype(int)\n",
    "r.long_ret   =[\"0.00%\" if math.isnan(val) else \"{0:.2f}%\".format((val-1)*100)  for val in r.long_ret]\n",
    "r.short_ret  =[\"0.00%\" if math.isnan(val) else \"{0:.2f}%\".format((val-1)*100)  for val in r.short_ret]\n",
    "r.spread_ret =[\"0.00%\" if math.isnan(val) else \"{0:.2f}%\".format((val-1)*100)  for val in r.spread_ret]\n",
    "r.trans_ret  =[\"0.00%\" if math.isnan(val) else \"{0:.2f}%\".format((val-1)*100)  for val in r.trans_ret]\n",
    "s.transaction_cost = [\"{0:.1f} bps\".format(val*10000)  for val in s.transaction_cost]\n",
    "s.lag = s.lag.astype(int)\n",
    "s['resample'] = s['resample'].astype(int)\n",
    "s.rounding = s.rounding.astype(int)\n",
    "s.exitMult   = [\"0\" if math.isnan(val) else \"{0:.1f}\".format(val)  for val in s.exitMult]\n",
    "s.entryMult  = [\"0\" if math.isnan(val) else \"{0:.1f}\".format(val)  for val in s.entryMult]\n",
    "s.exitZ      = [\"0\" if math.isnan(val) else \"{0:.1f}\".format(val)  for val in s.exitZ]\n",
    "s.entryZ     = [\"0\" if math.isnan(val) else \"{0:.1f}\".format(val)  for val in s.entryZ]\n",
    "s.windowZ    = [\"0\" if math.isnan(val) else int(val)  for val in s.windowZ]\n",
    "s.windowOLS  = [\"0\" if math.isnan(val) else int(val)  for val in s.windowOLS]"
   ]
  },
  {
   "cell_type": "code",
   "execution_count": 74,
   "metadata": {},
   "outputs": [],
   "source": [
    "def b_g(x,  filt=None,r = True,cmap='RdYlBu', low=0, high=0):\n",
    "    if filt is None:\n",
    "        filt = [True] * len(x)\n",
    "    # Pass the columns from Dataframe A \n",
    "    if r:\n",
    "        a = r2.loc[filt,x.name].copy()\n",
    "    else:\n",
    "        a = s2.loc[filt,x.name].copy()\n",
    "    rng = a.max() - a.min()\n",
    "    norm = colors.Normalize(a.min() - (rng * low),\n",
    "                        a.max() + (rng * high))\n",
    "    normed = norm(a.values)\n",
    "    c = [colors.rgb2hex(x) for x in plt.cm.get_cmap(cmap)(normed)]\n",
    "    return ['background-color: %s' % color for color in c]\n"
   ]
  },
  {
   "cell_type": "code",
   "execution_count": 75,
   "metadata": {},
   "outputs": [],
   "source": [
    "c1 = ['sharpe_ratio', 'max_drawdown', 'mean_hold_time','n_transactions']\n",
    "c2 = ['total_return','long_ret', 'short_ret', 'spread_ret', 'trans_ret']\n",
    "stylestr = \"* {font-family: \\\"Times New Roman\\\", Times, serif;} table, td, tr, th {text-align: center;border-color: black;border-width:thin;border-style:solid; border-width: 2px;border-collapse:collapse}\"\n",
    "widthstr = \"table {table-layout: fixed; width: 200px;} th,td {width: 120px;overflow: hidden;}\"\n"
   ]
  },
  {
   "cell_type": "code",
   "execution_count": 76,
   "metadata": {},
   "outputs": [
    {
     "name": "stdout",
     "output_type": "stream",
     "text": [
      "Loading page (1/2)\n",
      "Rendering (2/2)                                                    \n",
      "Done                                                               \n",
      "Loading page (1/2)\n",
      "Rendering (2/2)                                                    \n",
      "Done                                                               \n",
      "Loading page (1/2)\n",
      "Rendering (2/2)                                                    \n",
      "Done                                                               \n",
      "Loading page (1/2)\n",
      "Rendering (2/2)                                                    \n",
      "Done                                                               \n",
      "Loading page (1/2)\n",
      "Rendering (2/2)                                                    \n",
      "Done                                                               \n",
      "Loading page (1/2)\n",
      "Rendering (2/2)                                                    \n",
      "Done                                                               \n",
      "Loading page (1/2)\n",
      "Rendering (2/2)                                                    \n",
      "Done                                                               \n",
      "Loading page (1/2)\n",
      "Rendering (2/2)                                                    \n",
      "Done                                                               \n"
     ]
    }
   ],
   "source": [
    "for t in [\"test\",\"train\"]:\n",
    "    for m in [\"Benchmark\",\"Kalman\"]:\n",
    "        for c in [1,2]:\n",
    "            cols = c1 if c ==1 else c2\n",
    "            f = np.in1d(r.index.get_level_values('Model'),m) & np.in1d(r.index.get_level_values('Sample'),t)\n",
    "            e= r.droplevel(\"Model\").droplevel(\"Sample\").loc[f,cols].style.apply(b_g, filt = f)\n",
    "            html = e.render()\n",
    "            html = html[0:27] + stylestr + widthstr + html[27:len(html)]\n",
    "            path = \"OUTPUT/Tables/r_\" + m + \"_\" + t + \"_\" + str(c) + \".png\"\n",
    "            imgkit.from_string(html, path)"
   ]
  },
  {
   "cell_type": "code",
   "execution_count": 77,
   "metadata": {},
   "outputs": [
    {
     "name": "stdout",
     "output_type": "stream",
     "text": [
      "Loading page (1/2)\n",
      "Rendering (2/2)                                                    \n",
      "Done                                                               \n",
      "Loading page (1/2)\n",
      "Rendering (2/2)                                                    \n",
      "Done                                                               \n"
     ]
    },
    {
     "data": {
      "text/plain": [
       "True"
      ]
     },
     "execution_count": 77,
     "metadata": {},
     "output_type": "execute_result"
    }
   ],
   "source": [
    "f = np.in1d(s.index.get_level_values('Model'),\"Kalman\")\n",
    "html = s.loc[f,['transaction_cost', 'lag', 'resample', 'rounding', 'entryMult', 'exitMult']]\\\n",
    "            .droplevel(\"Model\").style.apply(b_g,  r=False, filt = f).render()\n",
    "html = html[0:27] + stylestr + html[27:len(html)]\n",
    "path = \"OUTPUT/Tables/s_all_Kalman.png\"\n",
    "imgkit.from_string(html, path)\n",
    "\n",
    "html = s.loc[~f,['transaction_cost', 'lag', 'resample', 'rounding', 'windowZ','windowOLS', 'entryZ', 'exitZ']]\\\n",
    "            .droplevel(\"Model\").style.apply(b_g,  r=False, filt = ~f).render()\n",
    "html = html[0:27] + stylestr + html[27:len(html)]\n",
    "path = \"OUTPUT/Tables/s_all_Benchmark.png\"\n",
    "imgkit.from_string(html, path)"
   ]
  },
  {
   "cell_type": "code",
   "execution_count": 71,
   "metadata": {},
   "outputs": [
    {
     "name": "stdout",
     "output_type": "stream",
     "text": [
      "Loading page (1/2)\n",
      "Rendering (2/2)                                                    \n",
      "Done                                                               \n",
      "Loading page (1/2)\n",
      "Rendering (2/2)                                                    \n",
      "Done                                                               \n",
      "Loading page (1/2)\n",
      "Rendering (2/2)                                                    \n",
      "Done                                                               \n",
      "Loading page (1/2)\n",
      "Rendering (2/2)                                                    \n",
      "Done                                                               \n"
     ]
    }
   ],
   "source": [
    "for f1 in [True,False]:\n",
    "    for f2 in [True,False]:\n",
    "        filt1 = skal if f1 else ~skal\n",
    "        filt2 = srya if f2 else shsbc\n",
    "        filt = filt1 & filt2\n",
    "        \n",
    "        cols = (['transaction_cost', 'lag', 'resample', 'rounding', 'entryMult', 'exitMult'] if f1 else \n",
    "                ['transaction_cost', 'lag', 'resample', 'rounding', 'windowZ','windowOLS', 'entryZ', 'exitZ'])\n",
    "        \n",
    "        html = s.loc[filt,cols].droplevel(\"Data\").droplevel(\"Model\").dropna('columns').style.apply(b_g, filt=filt, r=False).render()\n",
    "        html = html[0:27] + stylestr + html[27:len(html)]\n",
    "        \n",
    "        d1 = \"Kalman\" if f1 else \"Benchmark\"\n",
    "        d2 = \"Ryanair\" if f2 else \"HSBC\"\n",
    "        path = \"OUTPUT/Tables/s_\"+d1+\"_\"+d2+\".png\"\n",
    "        imgkit.from_string(html, path)"
   ]
  },
  {
   "cell_type": "code",
   "execution_count": 72,
   "metadata": {},
   "outputs": [
    {
     "name": "stdout",
     "output_type": "stream",
     "text": [
      "Loading page (1/2)\n",
      "Rendering (2/2)                                                    \n",
      "Done                                                               \n",
      "Loading page (1/2)\n",
      "Rendering (2/2)                                                    \n",
      "Done                                                               \n",
      "Loading page (1/2)\n",
      "Rendering (2/2)                                                    \n",
      "Done                                                               \n",
      "Loading page (1/2)\n",
      "Rendering (2/2)                                                    \n",
      "Done                                                               \n",
      "Loading page (1/2)\n",
      "Rendering (2/2)                                                    \n",
      "Done                                                               \n",
      "Loading page (1/2)\n",
      "Rendering (2/2)                                                    \n",
      "Done                                                               \n",
      "Loading page (1/2)\n",
      "Rendering (2/2)                                                    \n",
      "Done                                                               \n",
      "Loading page (1/2)\n",
      "Rendering (2/2)                                                    \n",
      "Done                                                               \n"
     ]
    }
   ],
   "source": [
    "for f1 in [True,False]:\n",
    "    for f2 in [True,False]:\n",
    "        for c in [1,2]:\n",
    "            cols = c1 if c ==1 else c2\n",
    "            filt1 = rkal if f1 else ~rkal\n",
    "            filt2 = rrya if f2 else rhsbc\n",
    "            filt = filt1 & filt2\n",
    "\n",
    "            html = r.droplevel(\"Data\").droplevel(\"Model\").loc[filt,cols].style.apply(b_g, filt=filt).render()\n",
    "            html = html[0:27] + stylestr+widthstr + html[27:len(html)]\n",
    "\n",
    "            d1 = \"Kalman\" if f1 else \"Benchmark\"\n",
    "            d2 = \"Ryanair\" if f2 else \"HSBC\"\n",
    "            path = \"OUTPUT/Tables/r_\"+d1+\"_\"+d2+\"_\"+str(c)+\".png\"\n",
    "            imgkit.from_string(html, path)"
   ]
  },
  {
   "cell_type": "code",
   "execution_count": null,
   "metadata": {},
   "outputs": [],
   "source": []
  }
 ],
 "metadata": {
  "kernelspec": {
   "display_name": "Python 3",
   "language": "python",
   "name": "python3"
  },
  "language_info": {
   "codemirror_mode": {
    "name": "ipython",
    "version": 3
   },
   "file_extension": ".py",
   "mimetype": "text/x-python",
   "name": "python",
   "nbconvert_exporter": "python",
   "pygments_lexer": "ipython3",
   "version": "3.7.6"
  }
 },
 "nbformat": 4,
 "nbformat_minor": 4
}
