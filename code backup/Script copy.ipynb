{
 "cells": [
  {
   "cell_type": "code",
   "execution_count": 11,
   "metadata": {},
   "outputs": [],
   "source": [
    "import tensorflow as tf\n",
    "tf.logging.set_verbosity(tf.logging.ERROR)\n",
    "import pandas as pd\n",
    "import numpy as np\n",
    "import MAIN.Basics as basics\n",
    "import MAIN.Reinforcement as RL\n",
    "\n",
    "import seaborn as sns\n",
    "import matplotlib.pyplot as plt\n",
    "from UTIL import FileIO\n",
    "from STRATEGY.Benchmark import Benchmark\n",
    "import statsmodels"
   ]
  },
  {
   "cell_type": "code",
   "execution_count": 12,
   "metadata": {},
   "outputs": [],
   "source": [
    "import MAIN.Basics as basics\n",
    "\n",
    "# Read config\n",
    "config_path  = 'CONFIG/config_train.yml'\n",
    "config_train = FileIO.read_yaml(config_path)      "
   ]
  },
  {
   "cell_type": "code",
   "execution_count": 16,
   "metadata": {},
   "outputs": [],
   "source": [
    "# Read prices\n",
    "x = pd.read_csv('STATICS/PRICE/rya.csv')\n",
    "y = pd.read_csv('STATICS/PRICE/ryaay.csv')\n",
    "x, y = Benchmark.clean_data(x, y, 'date', 'close')"
   ]
  },
  {
   "cell_type": "code",
   "execution_count": null,
   "metadata": {},
   "outputs": [],
   "source": [
    "\n",
    "\n",
    "# Separate training and testing sets\n",
    "train_pct = 0.7\n",
    "train_len = round(len(x) * 0.7)\n",
    "idx_train = list(range(0, train_len))\n",
    "idx_test  = list(range(train_len, len(x)))\n",
    "EG_Train = EGCointegration(x.iloc[idx_train, :], y.iloc[idx_train, :], 'date', 'close')\n",
    "EG_Test  = EGCointegration(x.iloc[idx_test,  :], y.iloc[idx_test,  :], 'date', 'close')\n",
    "\n",
    "# Create action space\n",
    "n_hist    = list(np.arange(600, 1201, 300))\n",
    "n_forward = list(np.arange(120, 1201, 240))\n",
    "trade_th  = list(np.arange(1,  3.1, 2))\n",
    "stop_loss = list(np.arange(1,  2.1, 1))\n",
    "cl        = list(np.arange(0.05,  0.06, 0.05))\n",
    "actions   = {'n_hist':    n_hist,\n",
    "             'n_forward': n_forward,\n",
    "             'trade_th':  trade_th,\n",
    "             'stop_loss': stop_loss,\n",
    "             'cl':        cl}\n",
    "n_action  = int(np.product([len(actions[key]) for key in actions.keys()]))\n"
   ]
  },
  {
   "cell_type": "code",
   "execution_count": null,
   "metadata": {},
   "outputs": [],
   "source": []
  },
  {
   "cell_type": "code",
   "execution_count": null,
   "metadata": {},
   "outputs": [],
   "source": [
    "\n",
    "# Create state space\n",
    "transaction_cost = [0.001]\n",
    "states  = {'transaction_cost': transaction_cost}\n",
    "n_state = len(states)\n",
    "\n",
    "# Assign state and action spaces to config\n",
    "config_train['StateSpaceState'] = states\n",
    "config_train['ActionSpaceAction'] = actions\n",
    "\n",
    "# Create and build network\n",
    "one_hot  = {'one_hot': {'func_name':  'one_hot',\n",
    "                        'input_arg':  'indices',\n",
    "                         'layer_para': {'indices': None,\n",
    "                                        'depth': n_state}}}\n",
    "output_layer = {'final': {'func_name':  'fully_connected',\n",
    "                          'input_arg':  'inputs',\n",
    "                          'layer_para': {'inputs': None,\n",
    "                                         'num_outputs': n_action,\n",
    "                                         'biases_initializer': None,\n",
    "                                         'activation_fn': tf.nn.relu,\n",
    "                                         'weights_initializer': tf.ones_initializer()}}}\n",
    "\n",
    "state_in = tf.placeholder(shape=[1], dtype=tf.int32)\n",
    "\n",
    "N = basics.Network(state_in)\n",
    "N.build_layers(one_hot)\n",
    "N.add_layer_duplicates(output_layer, 1)\n",
    "\n",
    "# Create learning object and perform training\n",
    "RL_Train = RL.ContextualBandit(N, config_train, EG_Train)\n",
    "\n"
   ]
  },
  {
   "cell_type": "code",
   "execution_count": null,
   "metadata": {},
   "outputs": [],
   "source": [
    "\n"
   ]
  },
  {
   "cell_type": "code",
   "execution_count": null,
   "metadata": {},
   "outputs": [],
   "source": []
  },
  {
   "cell_type": "code",
   "execution_count": null,
   "metadata": {},
   "outputs": [],
   "source": [
    "sess = tf.Session()\n",
    "RL_Train.process(sess, save=False, restore=False)\n"
   ]
  },
  {
   "cell_type": "code",
   "execution_count": null,
   "metadata": {},
   "outputs": [],
   "source": [
    "\n",
    "\n",
    "# Extract training results\n",
    "action = RL_Train.recorder.record['NETWORK_ACTION']\n",
    "reward = RL_Train.recorder.record['ENGINE_REWARD']\n",
    "print(np.mean(reward))\n",
    "\n",
    "df1 = pd.DataFrame()\n",
    "df1['action'] = action\n",
    "df1['reward'] = reward\n",
    "mean_reward = df1.groupby('action').mean()\n",
    "mean_reward.describe()\n",
    "sns.distplot(mean_reward)\n"
   ]
  },
  {
   "cell_type": "code",
   "execution_count": null,
   "metadata": {},
   "outputs": [],
   "source": [
    "# Test by trading continuously\n",
    "[opt_action] = sess.run([RL_Train.output], feed_dict=RL_Train.feed_dict)\n",
    "opt_action = np.argmax(opt_action)\n",
    "action_dict = RL_Train.action_space.convert(opt_action, 'index_to_dict')\n",
    "\n"
   ]
  },
  {
   "cell_type": "code",
   "execution_count": null,
   "metadata": {},
   "outputs": [],
   "source": [
    "indices = range(2500, 4000)\n",
    "\n",
    "pnl = pd.DataFrame()\n",
    "pnl['Time'] = EG_Test.timestamp\n",
    "pnl['Trade_Profit'] = 0\n",
    "pnl['Cost'] = 0\n",
    "pnl['N_Trade'] = 0\n",
    "\n",
    "indices\n",
    "action_dict = {'n_hist': 400,\n",
    " 'n_forward': 800,\n",
    " 'trade_th': 2,\n",
    " 'stop_loss': 10,\n",
    " 'cl': 0.1}"
   ]
  },
  {
   "cell_type": "code",
   "execution_count": null,
   "metadata": {},
   "outputs": [],
   "source": [
    "\n",
    "import warnings\n",
    "warnings.filterwarnings('ignore')\n",
    "for i in indices:\n",
    "    if i % 100 == 0:\n",
    "        print(i)\n",
    "    EG_Test.process(index=i, transaction_cost=0.006, **action_dict)\n",
    "    trade_record = EG_Test.record\n",
    "    if (trade_record is not None) and (len(trade_record) > 0):\n",
    "        #print('value at {}'.format(i))\n",
    "        trade_record = pd.DataFrame(trade_record)\n",
    "        # Get costs and position at trade time\n",
    "        trade_cost   = trade_record.groupby('trade_time')['trade_cost'].sum()\n",
    "        open_pos     = trade_record.groupby('trade_time')['long_short'].sum()\n",
    "        \n",
    "        # Get closing costs \n",
    "        close_cost   = trade_record.groupby('close_time')['close_cost'].sum()\n",
    "        profit       = trade_record.groupby('close_time')['profit'].sum()\n",
    "        \n",
    "        close_pos    = trade_record.groupby('close_time')['long_short'].sum() * -1\n",
    "\n",
    "        pnl['Cost'].loc[pnl['Time'].isin(trade_cost.index)] += trade_cost.values\n",
    "        pnl['Cost'].loc[pnl['Time'].isin(close_cost.index)] += close_cost.values\n",
    "        pnl['Trade_Profit'].loc[pnl['Time'].isin(close_cost.index)] += profit.values\n",
    "        pnl['N_Trade'].loc[pnl['Time'].isin(trade_cost.index)] += open_pos.values\n",
    "        pnl['N_Trade'].loc[pnl['Time'].isin(close_cost.index)] += close_pos.values\n",
    "\n",
    "warnings.filterwarnings(action='once')\n",
    "# Plot the testing result\n",
    "pnl['PnL'] = (pnl['Trade_Profit'] - pnl['Cost']).cumsum()"
   ]
  },
  {
   "cell_type": "code",
   "execution_count": null,
   "metadata": {},
   "outputs": [],
   "source": [
    "\n",
    "plt.plot((EG_Test.y - EG_Test.x * EG_Test.beta)[2500, 4000]"
   ]
  },
  {
   "cell_type": "code",
   "execution_count": null,
   "metadata": {},
   "outputs": [],
   "source": [
    "len(EG_Test.y)"
   ]
  },
  {
   "cell_type": "code",
   "execution_count": null,
   "metadata": {},
   "outputs": [],
   "source": [
    "\n"
   ]
  },
  {
   "cell_type": "code",
   "execution_count": null,
   "metadata": {},
   "outputs": [],
   "source": [
    "pnl['PnL'].describe()\n",
    "plt.plot(pnl['PnL'])\n",
    "plt.plot(pnl['N_Trade'])\n"
   ]
  },
  {
   "cell_type": "code",
   "execution_count": null,
   "metadata": {},
   "outputs": [],
   "source": [
    "pnl['PnL'].describe()\n",
    "plt.plot(pnl['PnL'][3000:4000])\n",
    "plt.plot(pnl['N_Trade'][3000:4000])\n"
   ]
  },
  {
   "cell_type": "code",
   "execution_count": null,
   "metadata": {},
   "outputs": [],
   "source": [
    "pnl.head()"
   ]
  },
  {
   "cell_type": "code",
   "execution_count": null,
   "metadata": {},
   "outputs": [],
   "source": [
    "sess.close()"
   ]
  },
  {
   "cell_type": "code",
   "execution_count": null,
   "metadata": {},
   "outputs": [],
   "source": []
  },
  {
   "cell_type": "code",
   "execution_count": null,
   "metadata": {},
   "outputs": [],
   "source": []
  }
 ],
 "metadata": {
  "kernelspec": {
   "display_name": "Python 3",
   "language": "python",
   "name": "python3"
  },
  "language_info": {
   "codemirror_mode": {
    "name": "ipython",
    "version": 3
   },
   "file_extension": ".py",
   "mimetype": "text/x-python",
   "name": "python",
   "nbconvert_exporter": "python",
   "pygments_lexer": "ipython3",
   "version": "3.7.6"
  }
 },
 "nbformat": 4,
 "nbformat_minor": 4
}
